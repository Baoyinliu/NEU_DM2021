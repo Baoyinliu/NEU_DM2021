{
 "cells": [
  {
   "cell_type": "code",
   "execution_count": 62,
   "metadata": {},
   "outputs": [],
   "source": [
    "import numpy as np\n",
    "import pandas as pd"
   ]
  },
  {
   "cell_type": "code",
   "execution_count": 63,
   "metadata": {},
   "outputs": [],
   "source": [
    "data_train = pd.read_csv(\"data/train_data.csv\")"
   ]
  },
  {
   "cell_type": "code",
   "execution_count": 64,
   "metadata": {},
   "outputs": [
    {
     "data": {
      "text/html": [
       "<div>\n",
       "<style scoped>\n",
       "    .dataframe tbody tr th:only-of-type {\n",
       "        vertical-align: middle;\n",
       "    }\n",
       "\n",
       "    .dataframe tbody tr th {\n",
       "        vertical-align: top;\n",
       "    }\n",
       "\n",
       "    .dataframe thead th {\n",
       "        text-align: right;\n",
       "    }\n",
       "</style>\n",
       "<table border=\"1\" class=\"dataframe\">\n",
       "  <thead>\n",
       "    <tr style=\"text-align: right;\">\n",
       "      <th></th>\n",
       "      <th>ID</th>\n",
       "      <th>Text</th>\n",
       "      <th>Labels</th>\n",
       "    </tr>\n",
       "  </thead>\n",
       "  <tbody>\n",
       "    <tr>\n",
       "      <th>0</th>\n",
       "      <td>1</td>\n",
       "      <td>我就奇怪了  为啥你能拍得这么美呢 __eou__ 因为我做什么都认真，都诚心诚意！ __e...</td>\n",
       "      <td>2222.0</td>\n",
       "    </tr>\n",
       "    <tr>\n",
       "      <th>1</th>\n",
       "      <td>2</td>\n",
       "      <td>是这是人家自己的事就算我能见到她也不会说你们分手吧什么的可是我真心不喜欢冯绍峰这个理由够吗 ...</td>\n",
       "      <td>5555.0</td>\n",
       "    </tr>\n",
       "    <tr>\n",
       "      <th>2</th>\n",
       "      <td>3</td>\n",
       "      <td>狂上加狂的旧时燕飞帝王家和危宫惊梦 __eou__ 哈哈，我也推这本。她古文好厉害 __eo...</td>\n",
       "      <td>6222.0</td>\n",
       "    </tr>\n",
       "    <tr>\n",
       "      <th>3</th>\n",
       "      <td>4</td>\n",
       "      <td>呵呵呵呵呵呵呵呵你拍我家枇杷树跟我说了嘛！！！不准吃我家枇杷！！！都我的！！！ __eou_...</td>\n",
       "      <td>5555.0</td>\n",
       "    </tr>\n",
       "    <tr>\n",
       "      <th>4</th>\n",
       "      <td>5</td>\n",
       "      <td>哎，我就吃下这个哑巴亏算了 __eou__ 呔，妖怪，死到临头还嘴硬 __eou__ 真不愧...</td>\n",
       "      <td>35536.0</td>\n",
       "    </tr>\n",
       "  </tbody>\n",
       "</table>\n",
       "</div>"
      ],
      "text/plain": [
       "   ID                                               Text   Labels\n",
       "0   1  我就奇怪了  为啥你能拍得这么美呢 __eou__ 因为我做什么都认真，都诚心诚意！ __e...   2222.0\n",
       "1   2  是这是人家自己的事就算我能见到她也不会说你们分手吧什么的可是我真心不喜欢冯绍峰这个理由够吗 ...   5555.0\n",
       "2   3  狂上加狂的旧时燕飞帝王家和危宫惊梦 __eou__ 哈哈，我也推这本。她古文好厉害 __eo...   6222.0\n",
       "3   4  呵呵呵呵呵呵呵呵你拍我家枇杷树跟我说了嘛！！！不准吃我家枇杷！！！都我的！！！ __eou_...   5555.0\n",
       "4   5  哎，我就吃下这个哑巴亏算了 __eou__ 呔，妖怪，死到临头还嘴硬 __eou__ 真不愧...  35536.0"
      ]
     },
     "execution_count": 64,
     "metadata": {},
     "output_type": "execute_result"
    }
   ],
   "source": [
    "data_train.head()"
   ]
  },
  {
   "cell_type": "code",
   "execution_count": 65,
   "metadata": {},
   "outputs": [
    {
     "name": "stdout",
     "output_type": "stream",
     "text": [
      "<class 'pandas.core.frame.DataFrame'>\n",
      "Int64Index: 8414 entries, 0 to 8413\n",
      "Data columns (total 3 columns):\n",
      "ID        8414 non-null int64\n",
      "Text      8414 non-null object\n",
      "Labels    8414 non-null float64\n",
      "dtypes: float64(1), int64(1), object(1)\n",
      "memory usage: 262.9+ KB\n"
     ]
    },
    {
     "data": {
      "text/html": [
       "<div>\n",
       "<style scoped>\n",
       "    .dataframe tbody tr th:only-of-type {\n",
       "        vertical-align: middle;\n",
       "    }\n",
       "\n",
       "    .dataframe tbody tr th {\n",
       "        vertical-align: top;\n",
       "    }\n",
       "\n",
       "    .dataframe thead th {\n",
       "        text-align: right;\n",
       "    }\n",
       "</style>\n",
       "<table border=\"1\" class=\"dataframe\">\n",
       "  <thead>\n",
       "    <tr style=\"text-align: right;\">\n",
       "      <th></th>\n",
       "      <th>ID</th>\n",
       "      <th>Text</th>\n",
       "      <th>Labels</th>\n",
       "    </tr>\n",
       "  </thead>\n",
       "  <tbody>\n",
       "    <tr>\n",
       "      <th>8409</th>\n",
       "      <td>8410</td>\n",
       "      <td>姗姗文笔很好啊 __eou__ 姗姗文采正经不错和我在伯仲之间吧 __eou__ 见识过你的...</td>\n",
       "      <td>2666.0</td>\n",
       "    </tr>\n",
       "    <tr>\n",
       "      <th>8410</th>\n",
       "      <td>8411</td>\n",
       "      <td>哈哈哈哈哈，难以想象那张地包天也是出自我手 __eou__ 他发的这张在朋友圈好评多多 __...</td>\n",
       "      <td>1222.0</td>\n",
       "    </tr>\n",
       "    <tr>\n",
       "      <th>8411</th>\n",
       "      <td>8412</td>\n",
       "      <td>帅哥，生活惬意到让人眼红啊 __eou__ 你们也快了！几号出发？ __eou__ 要考试了...</td>\n",
       "      <td>2662.0</td>\n",
       "    </tr>\n",
       "    <tr>\n",
       "      <th>8412</th>\n",
       "      <td>8413</td>\n",
       "      <td>你不是我认识的fsr了 __eou__ 我还是那个天真善良玉树临风的我 __eou__ 我看...</td>\n",
       "      <td>6666.0</td>\n",
       "    </tr>\n",
       "    <tr>\n",
       "      <th>8413</th>\n",
       "      <td>8414</td>\n",
       "      <td>脸好小啊啊啊啊羡慕 __eou__ 很难，我都胖成麻瓜那样了，因为脸不长肉，谁都给我硬塞饭 ...</td>\n",
       "      <td>2331.0</td>\n",
       "    </tr>\n",
       "  </tbody>\n",
       "</table>\n",
       "</div>"
      ],
      "text/plain": [
       "        ID                                               Text  Labels\n",
       "8409  8410  姗姗文笔很好啊 __eou__ 姗姗文采正经不错和我在伯仲之间吧 __eou__ 见识过你的...  2666.0\n",
       "8410  8411  哈哈哈哈哈，难以想象那张地包天也是出自我手 __eou__ 他发的这张在朋友圈好评多多 __...  1222.0\n",
       "8411  8412  帅哥，生活惬意到让人眼红啊 __eou__ 你们也快了！几号出发？ __eou__ 要考试了...  2662.0\n",
       "8412  8413  你不是我认识的fsr了 __eou__ 我还是那个天真善良玉树临风的我 __eou__ 我看...  6666.0\n",
       "8413  8414  脸好小啊啊啊啊羡慕 __eou__ 很难，我都胖成麻瓜那样了，因为脸不长肉，谁都给我硬塞饭 ...  2331.0"
      ]
     },
     "execution_count": 65,
     "metadata": {},
     "output_type": "execute_result"
    }
   ],
   "source": [
    "data_train = data_train.dropna(how='any')\n",
    "data_train.info()\n",
    "data_train.tail()"
   ]
  },
  {
   "cell_type": "code",
   "execution_count": 66,
   "metadata": {},
   "outputs": [],
   "source": [
    "data_train['Labels'] = data_train['Labels'].apply(lambda x: str(int(x)))"
   ]
  },
  {
   "cell_type": "code",
   "execution_count": 67,
   "metadata": {},
   "outputs": [
    {
     "data": {
      "text/plain": [
       "array(['text', '0', '我就奇怪了\\xa0\\xa0为啥你能拍得这么美呢 ', ..., '3',\n",
       "       '你这太好看了，我脸也胖身上也胖呜呜呜呜 ', '3'], dtype='<U74')"
      ]
     },
     "execution_count": 67,
     "metadata": {},
     "output_type": "execute_result"
    }
   ],
   "source": [
    "def splitBy(para, labels):\n",
    "    strs = para.split('__eou__ ')\n",
    "    res = []\n",
    "    for i in range(0, len(labels)-1):\n",
    "    #for i in range(0, len(labels)):\n",
    "        res.append([strs[i], int(labels[i])])\n",
    "    return np.array(res)\n",
    "df_array = np.array(['text', 0])\n",
    "for i in range(0, len(data_train)):\n",
    "    para = data_train['Text'][i]\n",
    "    labels = data_train['Labels'][i]\n",
    "    res = splitBy(para, labels)\n",
    "    df_array = np.append(df_array, res)\n",
    "df_array"
   ]
  },
  {
   "cell_type": "code",
   "execution_count": 68,
   "metadata": {},
   "outputs": [],
   "source": [
    "df_array = df_array.reshape(int(df_array.shape[0]/2), 2)"
   ]
  },
  {
   "cell_type": "code",
   "execution_count": 69,
   "metadata": {},
   "outputs": [
    {
     "data": {
      "text/plain": [
       "(28406, 2)"
      ]
     },
     "execution_count": 69,
     "metadata": {},
     "output_type": "execute_result"
    }
   ],
   "source": [
    "df_array.shape"
   ]
  },
  {
   "cell_type": "code",
   "execution_count": 70,
   "metadata": {},
   "outputs": [
    {
     "data": {
      "text/plain": [
       "array([['text', '0'],\n",
       "       ['我就奇怪了\\xa0\\xa0为啥你能拍得这么美呢 ', '2'],\n",
       "       ['因为我做什么都认真，都诚心诚意！ ', '2'],\n",
       "       ...,\n",
       "       ['脸好小啊啊啊啊羡慕 ', '2'],\n",
       "       ['很难，我都胖成麻瓜那样了，因为脸不长肉，谁都给我硬塞饭 ', '3'],\n",
       "       ['你这太好看了，我脸也胖身上也胖呜呜呜呜 ', '3']], dtype='<U74')"
      ]
     },
     "execution_count": 70,
     "metadata": {},
     "output_type": "execute_result"
    }
   ],
   "source": [
    "df_array"
   ]
  },
  {
   "cell_type": "code",
   "execution_count": 71,
   "metadata": {},
   "outputs": [
    {
     "data": {
      "text/html": [
       "<div>\n",
       "<style scoped>\n",
       "    .dataframe tbody tr th:only-of-type {\n",
       "        vertical-align: middle;\n",
       "    }\n",
       "\n",
       "    .dataframe tbody tr th {\n",
       "        vertical-align: top;\n",
       "    }\n",
       "\n",
       "    .dataframe thead th {\n",
       "        text-align: right;\n",
       "    }\n",
       "</style>\n",
       "<table border=\"1\" class=\"dataframe\">\n",
       "  <thead>\n",
       "    <tr style=\"text-align: right;\">\n",
       "      <th></th>\n",
       "      <th>text</th>\n",
       "      <th>label</th>\n",
       "    </tr>\n",
       "  </thead>\n",
       "  <tbody>\n",
       "    <tr>\n",
       "      <th>1</th>\n",
       "      <td>我就奇怪了  为啥你能拍得这么美呢</td>\n",
       "      <td>2</td>\n",
       "    </tr>\n",
       "    <tr>\n",
       "      <th>2</th>\n",
       "      <td>因为我做什么都认真，都诚心诚意！</td>\n",
       "      <td>2</td>\n",
       "    </tr>\n",
       "    <tr>\n",
       "      <th>3</th>\n",
       "      <td>好你诚心诚意！我谦虚低调！咱都是优秀品格的人再赞一个  干杯</td>\n",
       "      <td>2</td>\n",
       "    </tr>\n",
       "    <tr>\n",
       "      <th>4</th>\n",
       "      <td>是这是人家自己的事就算我能见到她也不会说你们分手吧什么的可是我真心不喜欢冯绍峰这个理由够吗</td>\n",
       "      <td>5</td>\n",
       "    </tr>\n",
       "    <tr>\n",
       "      <th>5</th>\n",
       "      <td>最起码那孩子对倪妮没恶意，你不开心也别来这里找人吵架不好吗</td>\n",
       "      <td>5</td>\n",
       "    </tr>\n",
       "  </tbody>\n",
       "</table>\n",
       "</div>"
      ],
      "text/plain": [
       "                                             text label\n",
       "1                              我就奇怪了  为啥你能拍得这么美呢      2\n",
       "2                               因为我做什么都认真，都诚心诚意！      2\n",
       "3                 好你诚心诚意！我谦虚低调！咱都是优秀品格的人再赞一个  干杯      2\n",
       "4  是这是人家自己的事就算我能见到她也不会说你们分手吧什么的可是我真心不喜欢冯绍峰这个理由够吗      5\n",
       "5                  最起码那孩子对倪妮没恶意，你不开心也别来这里找人吵架不好吗      5"
      ]
     },
     "execution_count": 71,
     "metadata": {},
     "output_type": "execute_result"
    }
   ],
   "source": [
    "new_df = pd.DataFrame(df_array, columns=[\"text\", \"label\"])\n",
    "new_df = new_df.drop(new_df.index[0])\n",
    "new_df.head()"
   ]
  },
  {
   "cell_type": "code",
   "execution_count": null,
   "metadata": {},
   "outputs": [],
   "source": []
  },
  {
   "cell_type": "code",
   "execution_count": null,
   "metadata": {},
   "outputs": [],
   "source": [
    "######test处理"
   ]
  },
  {
   "cell_type": "code",
   "execution_count": 51,
   "metadata": {},
   "outputs": [
    {
     "data": {
      "text/html": [
       "<div>\n",
       "<style scoped>\n",
       "    .dataframe tbody tr th:only-of-type {\n",
       "        vertical-align: middle;\n",
       "    }\n",
       "\n",
       "    .dataframe tbody tr th {\n",
       "        vertical-align: top;\n",
       "    }\n",
       "\n",
       "    .dataframe thead th {\n",
       "        text-align: right;\n",
       "    }\n",
       "</style>\n",
       "<table border=\"1\" class=\"dataframe\">\n",
       "  <thead>\n",
       "    <tr style=\"text-align: right;\">\n",
       "      <th></th>\n",
       "      <th>ID</th>\n",
       "      <th>Text</th>\n",
       "      <th>Label</th>\n",
       "    </tr>\n",
       "  </thead>\n",
       "  <tbody>\n",
       "    <tr>\n",
       "      <th>995</th>\n",
       "      <td>996</td>\n",
       "      <td>哎绍兴会有吗求来上虞开一家，可以开在万达嘛 __eou__ 绍兴有一家正在筹备中 __eou...</td>\n",
       "      <td>666</td>\n",
       "    </tr>\n",
       "    <tr>\n",
       "      <th>996</th>\n",
       "      <td>997</td>\n",
       "      <td>这个彤彤好可爱哦 __eou__ 多油腻啊头发被耳机压的钱今晚住网咖了 __eou__ 为啥...</td>\n",
       "      <td>266663</td>\n",
       "    </tr>\n",
       "    <tr>\n",
       "      <th>997</th>\n",
       "      <td>998</td>\n",
       "      <td>苹果姐我想买台微单有好的推荐吗？希望是4000以下的我拍摄风景和儿童为多，我属于入门阶级谢谢...</td>\n",
       "      <td>666</td>\n",
       "    </tr>\n",
       "    <tr>\n",
       "      <th>998</th>\n",
       "      <td>999</td>\n",
       "      <td>所以城野医生的水好用吗？之前一直想入来的 __eou__ 没啥用就是橘子味好闻然后敷上去凉凉...</td>\n",
       "      <td>6665</td>\n",
       "    </tr>\n",
       "    <tr>\n",
       "      <th>999</th>\n",
       "      <td>1000</td>\n",
       "      <td>2017的梦想是嫁给我喜欢的人，已经实现了！2018希望我们的小baby顺利出生，老公永远爱...</td>\n",
       "      <td>222</td>\n",
       "    </tr>\n",
       "  </tbody>\n",
       "</table>\n",
       "</div>"
      ],
      "text/plain": [
       "       ID                                               Text   Label\n",
       "995   996  哎绍兴会有吗求来上虞开一家，可以开在万达嘛 __eou__ 绍兴有一家正在筹备中 __eou...     666\n",
       "996   997  这个彤彤好可爱哦 __eou__ 多油腻啊头发被耳机压的钱今晚住网咖了 __eou__ 为啥...  266663\n",
       "997   998  苹果姐我想买台微单有好的推荐吗？希望是4000以下的我拍摄风景和儿童为多，我属于入门阶级谢谢...     666\n",
       "998   999  所以城野医生的水好用吗？之前一直想入来的 __eou__ 没啥用就是橘子味好闻然后敷上去凉凉...    6665\n",
       "999  1000  2017的梦想是嫁给我喜欢的人，已经实现了！2018希望我们的小baby顺利出生，老公永远爱...     222"
      ]
     },
     "execution_count": 51,
     "metadata": {},
     "output_type": "execute_result"
    }
   ],
   "source": [
    "data_test = pd.read_csv(\"data/test_data_new.csv\")\n",
    "data_test.tail()"
   ]
  },
  {
   "cell_type": "code",
   "execution_count": 52,
   "metadata": {},
   "outputs": [
    {
     "name": "stdout",
     "output_type": "stream",
     "text": [
      "<class 'pandas.core.frame.DataFrame'>\n",
      "Int64Index: 1000 entries, 0 to 999\n",
      "Data columns (total 3 columns):\n",
      "ID       1000 non-null int64\n",
      "Text     1000 non-null object\n",
      "Label    1000 non-null int64\n",
      "dtypes: int64(2), object(1)\n",
      "memory usage: 31.2+ KB\n"
     ]
    },
    {
     "data": {
      "text/html": [
       "<div>\n",
       "<style scoped>\n",
       "    .dataframe tbody tr th:only-of-type {\n",
       "        vertical-align: middle;\n",
       "    }\n",
       "\n",
       "    .dataframe tbody tr th {\n",
       "        vertical-align: top;\n",
       "    }\n",
       "\n",
       "    .dataframe thead th {\n",
       "        text-align: right;\n",
       "    }\n",
       "</style>\n",
       "<table border=\"1\" class=\"dataframe\">\n",
       "  <thead>\n",
       "    <tr style=\"text-align: right;\">\n",
       "      <th></th>\n",
       "      <th>ID</th>\n",
       "      <th>Text</th>\n",
       "      <th>Label</th>\n",
       "    </tr>\n",
       "  </thead>\n",
       "  <tbody>\n",
       "    <tr>\n",
       "      <th>995</th>\n",
       "      <td>996</td>\n",
       "      <td>哎绍兴会有吗求来上虞开一家，可以开在万达嘛 __eou__ 绍兴有一家正在筹备中 __eou...</td>\n",
       "      <td>666</td>\n",
       "    </tr>\n",
       "    <tr>\n",
       "      <th>996</th>\n",
       "      <td>997</td>\n",
       "      <td>这个彤彤好可爱哦 __eou__ 多油腻啊头发被耳机压的钱今晚住网咖了 __eou__ 为啥...</td>\n",
       "      <td>266663</td>\n",
       "    </tr>\n",
       "    <tr>\n",
       "      <th>997</th>\n",
       "      <td>998</td>\n",
       "      <td>苹果姐我想买台微单有好的推荐吗？希望是4000以下的我拍摄风景和儿童为多，我属于入门阶级谢谢...</td>\n",
       "      <td>666</td>\n",
       "    </tr>\n",
       "    <tr>\n",
       "      <th>998</th>\n",
       "      <td>999</td>\n",
       "      <td>所以城野医生的水好用吗？之前一直想入来的 __eou__ 没啥用就是橘子味好闻然后敷上去凉凉...</td>\n",
       "      <td>6665</td>\n",
       "    </tr>\n",
       "    <tr>\n",
       "      <th>999</th>\n",
       "      <td>1000</td>\n",
       "      <td>2017的梦想是嫁给我喜欢的人，已经实现了！2018希望我们的小baby顺利出生，老公永远爱...</td>\n",
       "      <td>222</td>\n",
       "    </tr>\n",
       "  </tbody>\n",
       "</table>\n",
       "</div>"
      ],
      "text/plain": [
       "       ID                                               Text   Label\n",
       "995   996  哎绍兴会有吗求来上虞开一家，可以开在万达嘛 __eou__ 绍兴有一家正在筹备中 __eou...     666\n",
       "996   997  这个彤彤好可爱哦 __eou__ 多油腻啊头发被耳机压的钱今晚住网咖了 __eou__ 为啥...  266663\n",
       "997   998  苹果姐我想买台微单有好的推荐吗？希望是4000以下的我拍摄风景和儿童为多，我属于入门阶级谢谢...     666\n",
       "998   999  所以城野医生的水好用吗？之前一直想入来的 __eou__ 没啥用就是橘子味好闻然后敷上去凉凉...    6665\n",
       "999  1000  2017的梦想是嫁给我喜欢的人，已经实现了！2018希望我们的小baby顺利出生，老公永远爱...     222"
      ]
     },
     "execution_count": 52,
     "metadata": {},
     "output_type": "execute_result"
    }
   ],
   "source": [
    "data_test = data_test.dropna(how='any')\n",
    "data_test.info()\n",
    "data_test.tail()"
   ]
  },
  {
   "cell_type": "code",
   "execution_count": 53,
   "metadata": {},
   "outputs": [
    {
     "data": {
      "text/plain": [
       "array(['text', '0', '竟然有脑残支持郭敬明 ', ..., '2', '谢谢哈也祝你早日找到另一半 ', '2'],\n",
       "      dtype='<U81')"
      ]
     },
     "execution_count": 53,
     "metadata": {},
     "output_type": "execute_result"
    }
   ],
   "source": [
    "data_test['Label'] = data_test['Label'].apply(lambda x: str(int(x)))\n",
    "def splitBy(para, labels):\n",
    "    strs = para.split('__eou__ ')\n",
    "    res = []\n",
    "    for i in range(0, len(labels)):\n",
    "    #for i in range(0, len(labels)):\n",
    "        res.append([strs[i], int(labels[i])])\n",
    "    return np.array(res)\n",
    "df_array = np.array(['text', 0])\n",
    "\n",
    "for i in range(0, len(data_test)):\n",
    "    para = data_test['Text'][i]\n",
    "    labels = data_test['Label'][i]\n",
    "    res = splitBy(para, labels)\n",
    "    df_array = np.append(df_array, res)\n",
    "df_array"
   ]
  },
  {
   "cell_type": "code",
   "execution_count": 54,
   "metadata": {},
   "outputs": [
    {
     "data": {
      "text/plain": [
       "(3341, 2)"
      ]
     },
     "execution_count": 54,
     "metadata": {},
     "output_type": "execute_result"
    }
   ],
   "source": [
    "df_array = df_array.reshape(int(df_array.shape[0]/2), 2)\n",
    "df_array.shape"
   ]
  },
  {
   "cell_type": "code",
   "execution_count": 55,
   "metadata": {},
   "outputs": [
    {
     "data": {
      "text/plain": [
       "array([['text', '0'],\n",
       "       ['竟然有脑残支持郭敬明 ', '5'],\n",
       "       ['很多那样的粉好吓人 ', '5'],\n",
       "       ...,\n",
       "       ['2017的梦想是嫁给我喜欢的人，已经实现了！2018希望我们的小baby顺利出生，老公永远爱我！ ', '2'],\n",
       "       ['恭喜你了，祝福你了 ', '2'],\n",
       "       ['谢谢哈也祝你早日找到另一半 ', '2']], dtype='<U81')"
      ]
     },
     "execution_count": 55,
     "metadata": {},
     "output_type": "execute_result"
    }
   ],
   "source": [
    "df_array"
   ]
  },
  {
   "cell_type": "code",
   "execution_count": 56,
   "metadata": {},
   "outputs": [
    {
     "data": {
      "text/html": [
       "<div>\n",
       "<style scoped>\n",
       "    .dataframe tbody tr th:only-of-type {\n",
       "        vertical-align: middle;\n",
       "    }\n",
       "\n",
       "    .dataframe tbody tr th {\n",
       "        vertical-align: top;\n",
       "    }\n",
       "\n",
       "    .dataframe thead th {\n",
       "        text-align: right;\n",
       "    }\n",
       "</style>\n",
       "<table border=\"1\" class=\"dataframe\">\n",
       "  <thead>\n",
       "    <tr style=\"text-align: right;\">\n",
       "      <th></th>\n",
       "      <th>text</th>\n",
       "      <th>label</th>\n",
       "    </tr>\n",
       "  </thead>\n",
       "  <tbody>\n",
       "    <tr>\n",
       "      <th>1</th>\n",
       "      <td>竟然有脑残支持郭敬明</td>\n",
       "      <td>5</td>\n",
       "    </tr>\n",
       "    <tr>\n",
       "      <th>2</th>\n",
       "      <td>很多那样的粉好吓人</td>\n",
       "      <td>5</td>\n",
       "    </tr>\n",
       "    <tr>\n",
       "      <th>3</th>\n",
       "      <td>追星也要有个底吧感觉脑残粉像是被洗脑了三观都没了太可怕了</td>\n",
       "      <td>5</td>\n",
       "    </tr>\n",
       "    <tr>\n",
       "      <th>4</th>\n",
       "      <td>你居然也记得珍珠传奇！！！那可能是我记事之后看的第一部电视剧</td>\n",
       "      <td>6</td>\n",
       "    </tr>\n",
       "    <tr>\n",
       "      <th>5</th>\n",
       "      <td>当时觉得老好看了，古装还是武打，虽然也没看明白当时不明白珍珠怎么会喜欢冯力，他长得又不好看</td>\n",
       "      <td>2</td>\n",
       "    </tr>\n",
       "  </tbody>\n",
       "</table>\n",
       "</div>"
      ],
      "text/plain": [
       "                                             text label\n",
       "1                                     竟然有脑残支持郭敬明      5\n",
       "2                                      很多那样的粉好吓人      5\n",
       "3                   追星也要有个底吧感觉脑残粉像是被洗脑了三观都没了太可怕了      5\n",
       "4                 你居然也记得珍珠传奇！！！那可能是我记事之后看的第一部电视剧      6\n",
       "5  当时觉得老好看了，古装还是武打，虽然也没看明白当时不明白珍珠怎么会喜欢冯力，他长得又不好看      2"
      ]
     },
     "execution_count": 56,
     "metadata": {},
     "output_type": "execute_result"
    }
   ],
   "source": [
    "new_df_test = pd.DataFrame(df_array, columns=[\"text\", \"label\"])\n",
    "new_df_test = new_df_test.drop(new_df_test.index[0])\n",
    "new_df_test.head()"
   ]
  },
  {
   "cell_type": "code",
   "execution_count": 57,
   "metadata": {},
   "outputs": [
    {
     "data": {
      "text/html": [
       "<div>\n",
       "<style scoped>\n",
       "    .dataframe tbody tr th:only-of-type {\n",
       "        vertical-align: middle;\n",
       "    }\n",
       "\n",
       "    .dataframe tbody tr th {\n",
       "        vertical-align: top;\n",
       "    }\n",
       "\n",
       "    .dataframe thead th {\n",
       "        text-align: right;\n",
       "    }\n",
       "</style>\n",
       "<table border=\"1\" class=\"dataframe\">\n",
       "  <thead>\n",
       "    <tr style=\"text-align: right;\">\n",
       "      <th></th>\n",
       "      <th>text</th>\n",
       "      <th>label</th>\n",
       "    </tr>\n",
       "  </thead>\n",
       "  <tbody>\n",
       "    <tr>\n",
       "      <th>36815</th>\n",
       "      <td>那你想想就好了</td>\n",
       "      <td>6</td>\n",
       "    </tr>\n",
       "    <tr>\n",
       "      <th>36816</th>\n",
       "      <td>脸好小啊啊啊啊羡慕</td>\n",
       "      <td>2</td>\n",
       "    </tr>\n",
       "    <tr>\n",
       "      <th>36817</th>\n",
       "      <td>很难，我都胖成麻瓜那样了，因为脸不长肉，谁都给我硬塞饭</td>\n",
       "      <td>3</td>\n",
       "    </tr>\n",
       "    <tr>\n",
       "      <th>36818</th>\n",
       "      <td>你这太好看了，我脸也胖身上也胖呜呜呜呜</td>\n",
       "      <td>3</td>\n",
       "    </tr>\n",
       "    <tr>\n",
       "      <th>36819</th>\n",
       "      <td>匀称点好！我腰以下疯长肉，腰以皮包骨。难受，我有两张都是老u的衣服哈哈哈</td>\n",
       "      <td>1</td>\n",
       "    </tr>\n",
       "  </tbody>\n",
       "</table>\n",
       "</div>"
      ],
      "text/plain": [
       "                                       text label\n",
       "36815                               那你想想就好了     6\n",
       "36816                            脸好小啊啊啊啊羡慕      2\n",
       "36817          很难，我都胖成麻瓜那样了，因为脸不长肉，谁都给我硬塞饭      3\n",
       "36818                  你这太好看了，我脸也胖身上也胖呜呜呜呜      3\n",
       "36819  匀称点好！我腰以下疯长肉，腰以皮包骨。难受，我有两张都是老u的衣服哈哈哈     1"
      ]
     },
     "execution_count": 57,
     "metadata": {},
     "output_type": "execute_result"
    }
   ],
   "source": [
    "new_df.tail()"
   ]
  },
  {
   "cell_type": "code",
   "execution_count": 58,
   "metadata": {},
   "outputs": [
    {
     "data": {
      "text/html": [
       "<div>\n",
       "<style scoped>\n",
       "    .dataframe tbody tr th:only-of-type {\n",
       "        vertical-align: middle;\n",
       "    }\n",
       "\n",
       "    .dataframe tbody tr th {\n",
       "        vertical-align: top;\n",
       "    }\n",
       "\n",
       "    .dataframe thead th {\n",
       "        text-align: right;\n",
       "    }\n",
       "</style>\n",
       "<table border=\"1\" class=\"dataframe\">\n",
       "  <thead>\n",
       "    <tr style=\"text-align: right;\">\n",
       "      <th></th>\n",
       "      <th>text</th>\n",
       "      <th>label</th>\n",
       "    </tr>\n",
       "  </thead>\n",
       "  <tbody>\n",
       "    <tr>\n",
       "      <th>3336</th>\n",
       "      <td>说好的收毛孔呢</td>\n",
       "      <td>6</td>\n",
       "    </tr>\n",
       "    <tr>\n",
       "      <th>3337</th>\n",
       "      <td>童话里都是骗人的</td>\n",
       "      <td>5</td>\n",
       "    </tr>\n",
       "    <tr>\n",
       "      <th>3338</th>\n",
       "      <td>2017的梦想是嫁给我喜欢的人，已经实现了！2018希望我们的小baby顺利出生，老公永远爱我！</td>\n",
       "      <td>2</td>\n",
       "    </tr>\n",
       "    <tr>\n",
       "      <th>3339</th>\n",
       "      <td>恭喜你了，祝福你了</td>\n",
       "      <td>2</td>\n",
       "    </tr>\n",
       "    <tr>\n",
       "      <th>3340</th>\n",
       "      <td>谢谢哈也祝你早日找到另一半</td>\n",
       "      <td>2</td>\n",
       "    </tr>\n",
       "  </tbody>\n",
       "</table>\n",
       "</div>"
      ],
      "text/plain": [
       "                                                   text label\n",
       "3336                                           说好的收毛孔呢      6\n",
       "3337                                          童话里都是骗人的      5\n",
       "3338  2017的梦想是嫁给我喜欢的人，已经实现了！2018希望我们的小baby顺利出生，老公永远爱我！      2\n",
       "3339                                         恭喜你了，祝福你了      2\n",
       "3340                                     谢谢哈也祝你早日找到另一半      2"
      ]
     },
     "execution_count": 58,
     "metadata": {},
     "output_type": "execute_result"
    }
   ],
   "source": [
    "new_df_test.tail()"
   ]
  },
  {
   "cell_type": "code",
   "execution_count": 59,
   "metadata": {},
   "outputs": [],
   "source": [
    "final_data = pd.concat([new_df, new_df_test], axis=0)"
   ]
  },
  {
   "cell_type": "code",
   "execution_count": 60,
   "metadata": {},
   "outputs": [
    {
     "data": {
      "text/html": [
       "<div>\n",
       "<style scoped>\n",
       "    .dataframe tbody tr th:only-of-type {\n",
       "        vertical-align: middle;\n",
       "    }\n",
       "\n",
       "    .dataframe tbody tr th {\n",
       "        vertical-align: top;\n",
       "    }\n",
       "\n",
       "    .dataframe thead th {\n",
       "        text-align: right;\n",
       "    }\n",
       "</style>\n",
       "<table border=\"1\" class=\"dataframe\">\n",
       "  <thead>\n",
       "    <tr style=\"text-align: right;\">\n",
       "      <th></th>\n",
       "      <th>text</th>\n",
       "      <th>label</th>\n",
       "    </tr>\n",
       "  </thead>\n",
       "  <tbody>\n",
       "    <tr>\n",
       "      <th>40154</th>\n",
       "      <td>说好的收毛孔呢</td>\n",
       "      <td>6</td>\n",
       "    </tr>\n",
       "    <tr>\n",
       "      <th>40155</th>\n",
       "      <td>童话里都是骗人的</td>\n",
       "      <td>5</td>\n",
       "    </tr>\n",
       "    <tr>\n",
       "      <th>40156</th>\n",
       "      <td>2017的梦想是嫁给我喜欢的人，已经实现了！2018希望我们的小baby顺利出生，老公永远爱我！</td>\n",
       "      <td>2</td>\n",
       "    </tr>\n",
       "    <tr>\n",
       "      <th>40157</th>\n",
       "      <td>恭喜你了，祝福你了</td>\n",
       "      <td>2</td>\n",
       "    </tr>\n",
       "    <tr>\n",
       "      <th>40158</th>\n",
       "      <td>谢谢哈也祝你早日找到另一半</td>\n",
       "      <td>2</td>\n",
       "    </tr>\n",
       "  </tbody>\n",
       "</table>\n",
       "</div>"
      ],
      "text/plain": [
       "                                                    text label\n",
       "40154                                           说好的收毛孔呢      6\n",
       "40155                                          童话里都是骗人的      5\n",
       "40156  2017的梦想是嫁给我喜欢的人，已经实现了！2018希望我们的小baby顺利出生，老公永远爱我！      2\n",
       "40157                                         恭喜你了，祝福你了      2\n",
       "40158                                     谢谢哈也祝你早日找到另一半      2"
      ]
     },
     "execution_count": 60,
     "metadata": {},
     "output_type": "execute_result"
    }
   ],
   "source": [
    "final_data = final_data.reset_index(drop=True)\n",
    "final_data.tail()"
   ]
  },
  {
   "cell_type": "code",
   "execution_count": 61,
   "metadata": {},
   "outputs": [],
   "source": [
    "final_data.to_csv(\"final_train_single.csv\")"
   ]
  },
  {
   "cell_type": "code",
   "execution_count": null,
   "metadata": {},
   "outputs": [],
   "source": []
  }
 ],
 "metadata": {
  "kernelspec": {
   "display_name": "Python 3",
   "language": "python",
   "name": "python3"
  },
  "language_info": {
   "codemirror_mode": {
    "name": "ipython",
    "version": 3
   },
   "file_extension": ".py",
   "mimetype": "text/x-python",
   "name": "python",
   "nbconvert_exporter": "python",
   "pygments_lexer": "ipython3",
   "version": "3.7.6"
  }
 },
 "nbformat": 4,
 "nbformat_minor": 2
}
