{
 "cells": [
  {
   "cell_type": "code",
   "execution_count": 2,
   "metadata": {},
   "outputs": [],
   "source": [
    "import pandas as pd\n",
    "\n",
    "from sklearn.utils import shuffle"
   ]
  },
  {
   "cell_type": "code",
   "execution_count": 4,
   "metadata": {},
   "outputs": [
    {
     "data": {
      "text/html": [
       "<div>\n",
       "<style scoped>\n",
       "    .dataframe tbody tr th:only-of-type {\n",
       "        vertical-align: middle;\n",
       "    }\n",
       "\n",
       "    .dataframe tbody tr th {\n",
       "        vertical-align: top;\n",
       "    }\n",
       "\n",
       "    .dataframe thead th {\n",
       "        text-align: right;\n",
       "    }\n",
       "</style>\n",
       "<table border=\"1\" class=\"dataframe\">\n",
       "  <thead>\n",
       "    <tr style=\"text-align: right;\">\n",
       "      <th></th>\n",
       "      <th>label</th>\n",
       "      <th>text</th>\n",
       "    </tr>\n",
       "  </thead>\n",
       "  <tbody>\n",
       "    <tr>\n",
       "      <th>31740</th>\n",
       "      <td>6</td>\n",
       "      <td>只要不是严重的骨性问题，都可以</td>\n",
       "    </tr>\n",
       "    <tr>\n",
       "      <th>31741</th>\n",
       "      <td>2</td>\n",
       "      <td>比某女漂亮的多，人家天然不整容，既然喜欢他，就送他祝福</td>\n",
       "    </tr>\n",
       "    <tr>\n",
       "      <th>31742</th>\n",
       "      <td>6</td>\n",
       "      <td>啊新成员啊我们家怎么会有新成员啊不都齐了吗谁啊</td>\n",
       "    </tr>\n",
       "    <tr>\n",
       "      <th>31743</th>\n",
       "      <td>6</td>\n",
       "      <td>你淳的技术作为一个直男已经挺好了</td>\n",
       "    </tr>\n",
       "    <tr>\n",
       "      <th>31744</th>\n",
       "      <td>5</td>\n",
       "      <td>可以理解，脑残，要不是我那么关心你呢</td>\n",
       "    </tr>\n",
       "  </tbody>\n",
       "</table>\n",
       "</div>"
      ],
      "text/plain": [
       "       label                          text\n",
       "31740      6              只要不是严重的骨性问题，都可以 \n",
       "31741      2  比某女漂亮的多，人家天然不整容，既然喜欢他，就送他祝福 \n",
       "31742      6      啊新成员啊我们家怎么会有新成员啊不都齐了吗谁啊 \n",
       "31743      6             你淳的技术作为一个直男已经挺好了 \n",
       "31744      5           可以理解，脑残，要不是我那么关心你呢 "
      ]
     },
     "execution_count": 4,
     "metadata": {},
     "output_type": "execute_result"
    }
   ],
   "source": [
    "pd_all = pd.read_csv(\"./data/final_train_single.csv\", sep=',', encoding='utf-8') \n",
    "pd_all.drop(['Unnamed: 0'], axis=1, inplace=True)\n",
    "pd_all = shuffle(pd_all).reset_index()\n",
    "pd_all.drop(['index'], axis=1, inplace=True)\n",
    "pd_all[['label', 'text']] = pd_all[['text', 'label']]\n",
    "pd_all.columns = ['label', 'text']\n",
    "pd_all.tail()"
   ]
  },
  {
   "cell_type": "code",
   "execution_count": 5,
   "metadata": {},
   "outputs": [
    {
     "data": {
      "text/html": [
       "<div>\n",
       "<style scoped>\n",
       "    .dataframe tbody tr th:only-of-type {\n",
       "        vertical-align: middle;\n",
       "    }\n",
       "\n",
       "    .dataframe tbody tr th {\n",
       "        vertical-align: top;\n",
       "    }\n",
       "\n",
       "    .dataframe thead th {\n",
       "        text-align: right;\n",
       "    }\n",
       "</style>\n",
       "<table border=\"1\" class=\"dataframe\">\n",
       "  <thead>\n",
       "    <tr style=\"text-align: right;\">\n",
       "      <th></th>\n",
       "      <th>label</th>\n",
       "      <th>text</th>\n",
       "    </tr>\n",
       "  </thead>\n",
       "  <tbody>\n",
       "    <tr>\n",
       "      <th>30152</th>\n",
       "      <td>5</td>\n",
       "      <td>你妈更渴望，也许现在在等你呢，听听</td>\n",
       "    </tr>\n",
       "    <tr>\n",
       "      <th>30153</th>\n",
       "      <td>6</td>\n",
       "      <td>确实拔了显脸小</td>\n",
       "    </tr>\n",
       "    <tr>\n",
       "      <th>30154</th>\n",
       "      <td>5</td>\n",
       "      <td>典型的懒惰、推诿而且又笨拙的管理方式！</td>\n",
       "    </tr>\n",
       "    <tr>\n",
       "      <th>30155</th>\n",
       "      <td>6</td>\n",
       "      <td>你过得怎样吖</td>\n",
       "    </tr>\n",
       "    <tr>\n",
       "      <th>30156</th>\n",
       "      <td>6</td>\n",
       "      <td>都没有看到江山发微博帖啊</td>\n",
       "    </tr>\n",
       "  </tbody>\n",
       "</table>\n",
       "</div>"
      ],
      "text/plain": [
       "       label                  text\n",
       "30152      5    你妈更渴望，也许现在在等你呢，听听 \n",
       "30153      6              确实拔了显脸小 \n",
       "30154      5  典型的懒惰、推诿而且又笨拙的管理方式！ \n",
       "30155      6               你过得怎样吖 \n",
       "30156      6         都没有看到江山发微博帖啊 "
      ]
     },
     "execution_count": 5,
     "metadata": {},
     "output_type": "execute_result"
    }
   ],
   "source": [
    "df_train = pd_all.iloc[:int(len(pd_all)*0.95)]\n",
    "df_train.to_csv(\"bert_data/train.csv\", index=None)\n",
    "df_train.tail()"
   ]
  },
  {
   "cell_type": "code",
   "execution_count": 6,
   "metadata": {},
   "outputs": [
    {
     "data": {
      "text/html": [
       "<div>\n",
       "<style scoped>\n",
       "    .dataframe tbody tr th:only-of-type {\n",
       "        vertical-align: middle;\n",
       "    }\n",
       "\n",
       "    .dataframe tbody tr th {\n",
       "        vertical-align: top;\n",
       "    }\n",
       "\n",
       "    .dataframe thead th {\n",
       "        text-align: right;\n",
       "    }\n",
       "</style>\n",
       "<table border=\"1\" class=\"dataframe\">\n",
       "  <thead>\n",
       "    <tr style=\"text-align: right;\">\n",
       "      <th></th>\n",
       "      <th>label</th>\n",
       "      <th>text</th>\n",
       "    </tr>\n",
       "  </thead>\n",
       "  <tbody>\n",
       "    <tr>\n",
       "      <th>30157</th>\n",
       "      <td>4</td>\n",
       "      <td>我瞬间被吓到了！</td>\n",
       "    </tr>\n",
       "    <tr>\n",
       "      <th>30158</th>\n",
       "      <td>6</td>\n",
       "      <td>葡语的女人问呢可以不会？？？</td>\n",
       "    </tr>\n",
       "    <tr>\n",
       "      <th>30159</th>\n",
       "      <td>6</td>\n",
       "      <td>对的！！就是我那天跟你讲的这个怪毛病亚！今天洗手水碰到也好痛尼玛可是它看上去完好无损阿</td>\n",
       "    </tr>\n",
       "    <tr>\n",
       "      <th>30160</th>\n",
       "      <td>6</td>\n",
       "      <td>是的，那是真爱。</td>\n",
       "    </tr>\n",
       "    <tr>\n",
       "      <th>30161</th>\n",
       "      <td>6</td>\n",
       "      <td>我们长得丑的要多睡觉  快睡觉</td>\n",
       "    </tr>\n",
       "  </tbody>\n",
       "</table>\n",
       "</div>"
      ],
      "text/plain": [
       "       label                                          text\n",
       "30157      4                                     我瞬间被吓到了！ \n",
       "30158      6                               葡语的女人问呢可以不会？？？ \n",
       "30159      6  对的！！就是我那天跟你讲的这个怪毛病亚！今天洗手水碰到也好痛尼玛可是它看上去完好无损阿 \n",
       "30160      6                                     是的，那是真爱。 \n",
       "30161      6                              我们长得丑的要多睡觉  快睡觉 "
      ]
     },
     "execution_count": 6,
     "metadata": {},
     "output_type": "execute_result"
    }
   ],
   "source": [
    "df_dev = pd_all.iloc[int(len(pd_all)*0.95):int(len(pd_all)*1)]\n",
    "df_dev.to_csv(\"bert_data/dev.csv\", index=None)\n",
    "df_dev.head()"
   ]
  },
  {
   "cell_type": "code",
   "execution_count": 10,
   "metadata": {},
   "outputs": [
    {
     "data": {
      "text/html": [
       "<div>\n",
       "<style scoped>\n",
       "    .dataframe tbody tr th:only-of-type {\n",
       "        vertical-align: middle;\n",
       "    }\n",
       "\n",
       "    .dataframe tbody tr th {\n",
       "        vertical-align: top;\n",
       "    }\n",
       "\n",
       "    .dataframe thead th {\n",
       "        text-align: right;\n",
       "    }\n",
       "</style>\n",
       "<table border=\"1\" class=\"dataframe\">\n",
       "  <thead>\n",
       "    <tr style=\"text-align: right;\">\n",
       "      <th></th>\n",
       "      <th>label</th>\n",
       "      <th>text</th>\n",
       "    </tr>\n",
       "  </thead>\n",
       "  <tbody>\n",
       "    <tr>\n",
       "      <th>0</th>\n",
       "      <td>1</td>\n",
       "      <td>昨晚看最强大脑都烦死了看的一头的火都是因为那个没素质，没事瞎bb的人</td>\n",
       "    </tr>\n",
       "    <tr>\n",
       "      <th>1</th>\n",
       "      <td>1</td>\n",
       "      <td>哈哈鸡窝我也是歌词完全不懂也跟着唱刚才google了一下才知道歌词大意</td>\n",
       "    </tr>\n",
       "    <tr>\n",
       "      <th>2</th>\n",
       "      <td>1</td>\n",
       "      <td>我给你介绍个有pr的妹子好了</td>\n",
       "    </tr>\n",
       "    <tr>\n",
       "      <th>3</th>\n",
       "      <td>1</td>\n",
       "      <td>天啊！我太开心了！谢谢你哦</td>\n",
       "    </tr>\n",
       "    <tr>\n",
       "      <th>4</th>\n",
       "      <td>1</td>\n",
       "      <td>愿你见一下西北大小伙的歌喉</td>\n",
       "    </tr>\n",
       "  </tbody>\n",
       "</table>\n",
       "</div>"
      ],
      "text/plain": [
       "   label                                 text\n",
       "0      1   昨晚看最强大脑都烦死了看的一头的火都是因为那个没素质，没事瞎bb的人\n",
       "1      1  哈哈鸡窝我也是歌词完全不懂也跟着唱刚才google了一下才知道歌词大意\n",
       "2      1                       我给你介绍个有pr的妹子好了\n",
       "3      1                        天啊！我太开心了！谢谢你哦\n",
       "4      1                        愿你见一下西北大小伙的歌喉"
      ]
     },
     "execution_count": 10,
     "metadata": {},
     "output_type": "execute_result"
    }
   ],
   "source": [
    "df_test = pd_all\n",
    "df_test['label'] = df_test['label'].apply(lambda x: 1)\n",
    "df_test.to_csv(\"test.csv\", index=None)\n",
    "df_test.head()"
   ]
  },
  {
   "cell_type": "code",
   "execution_count": null,
   "metadata": {},
   "outputs": [],
   "source": []
  }
 ],
 "metadata": {
  "kernelspec": {
   "display_name": "Python 3",
   "language": "python",
   "name": "python3"
  },
  "language_info": {
   "codemirror_mode": {
    "name": "ipython",
    "version": 3
   },
   "file_extension": ".py",
   "mimetype": "text/x-python",
   "name": "python",
   "nbconvert_exporter": "python",
   "pygments_lexer": "ipython3",
   "version": "3.7.6"
  }
 },
 "nbformat": 4,
 "nbformat_minor": 4
}
