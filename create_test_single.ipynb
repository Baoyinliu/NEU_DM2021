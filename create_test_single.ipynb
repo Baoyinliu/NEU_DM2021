{
 "cells": [
  {
   "cell_type": "code",
   "execution_count": 28,
   "metadata": {},
   "outputs": [
    {
     "data": {
      "text/html": [
       "<div>\n",
       "<style scoped>\n",
       "    .dataframe tbody tr th:only-of-type {\n",
       "        vertical-align: middle;\n",
       "    }\n",
       "\n",
       "    .dataframe tbody tr th {\n",
       "        vertical-align: top;\n",
       "    }\n",
       "\n",
       "    .dataframe thead th {\n",
       "        text-align: right;\n",
       "    }\n",
       "</style>\n",
       "<table border=\"1\" class=\"dataframe\">\n",
       "  <thead>\n",
       "    <tr style=\"text-align: right;\">\n",
       "      <th></th>\n",
       "      <th>ID</th>\n",
       "      <th>Text</th>\n",
       "      <th>Label</th>\n",
       "    </tr>\n",
       "  </thead>\n",
       "  <tbody>\n",
       "    <tr>\n",
       "      <th>995</th>\n",
       "      <td>996</td>\n",
       "      <td>哎绍兴会有吗求来上虞开一家，可以开在万达嘛 __eou__ 绍兴有一家正在筹备中 __eou...</td>\n",
       "      <td>666</td>\n",
       "    </tr>\n",
       "    <tr>\n",
       "      <th>996</th>\n",
       "      <td>997</td>\n",
       "      <td>这个彤彤好可爱哦 __eou__ 多油腻啊头发被耳机压的钱今晚住网咖了 __eou__ 为啥...</td>\n",
       "      <td>266663</td>\n",
       "    </tr>\n",
       "    <tr>\n",
       "      <th>997</th>\n",
       "      <td>998</td>\n",
       "      <td>苹果姐我想买台微单有好的推荐吗？希望是4000以下的我拍摄风景和儿童为多，我属于入门阶级谢谢...</td>\n",
       "      <td>666</td>\n",
       "    </tr>\n",
       "    <tr>\n",
       "      <th>998</th>\n",
       "      <td>999</td>\n",
       "      <td>所以城野医生的水好用吗？之前一直想入来的 __eou__ 没啥用就是橘子味好闻然后敷上去凉凉...</td>\n",
       "      <td>6665</td>\n",
       "    </tr>\n",
       "    <tr>\n",
       "      <th>999</th>\n",
       "      <td>1000</td>\n",
       "      <td>2017的梦想是嫁给我喜欢的人，已经实现了！2018希望我们的小baby顺利出生，老公永远爱...</td>\n",
       "      <td>222</td>\n",
       "    </tr>\n",
       "  </tbody>\n",
       "</table>\n",
       "</div>"
      ],
      "text/plain": [
       "       ID                                               Text   Label\n",
       "995   996  哎绍兴会有吗求来上虞开一家，可以开在万达嘛 __eou__ 绍兴有一家正在筹备中 __eou...     666\n",
       "996   997  这个彤彤好可爱哦 __eou__ 多油腻啊头发被耳机压的钱今晚住网咖了 __eou__ 为啥...  266663\n",
       "997   998  苹果姐我想买台微单有好的推荐吗？希望是4000以下的我拍摄风景和儿童为多，我属于入门阶级谢谢...     666\n",
       "998   999  所以城野医生的水好用吗？之前一直想入来的 __eou__ 没啥用就是橘子味好闻然后敷上去凉凉...    6665\n",
       "999  1000  2017的梦想是嫁给我喜欢的人，已经实现了！2018希望我们的小baby顺利出生，老公永远爱...     222"
      ]
     },
     "execution_count": 28,
     "metadata": {},
     "output_type": "execute_result"
    }
   ],
   "source": [
    "import numpy as np\n",
    "import pandas as pd\n",
    "data_train = pd.read_csv(\"data/test_data_new.csv\")\n",
    "data_train.tail()"
   ]
  },
  {
   "cell_type": "code",
   "execution_count": 27,
   "metadata": {},
   "outputs": [
    {
     "name": "stdout",
     "output_type": "stream",
     "text": [
      "<class 'pandas.core.frame.DataFrame'>\n",
      "Int64Index: 1000 entries, 0 to 999\n",
      "Data columns (total 3 columns):\n",
      "Unnamed: 0    1000 non-null int64\n",
      "text          1000 non-null object\n",
      "label         1000 non-null int64\n",
      "dtypes: int64(2), object(1)\n",
      "memory usage: 31.2+ KB\n"
     ]
    },
    {
     "data": {
      "text/html": [
       "<div>\n",
       "<style scoped>\n",
       "    .dataframe tbody tr th:only-of-type {\n",
       "        vertical-align: middle;\n",
       "    }\n",
       "\n",
       "    .dataframe tbody tr th {\n",
       "        vertical-align: top;\n",
       "    }\n",
       "\n",
       "    .dataframe thead th {\n",
       "        text-align: right;\n",
       "    }\n",
       "</style>\n",
       "<table border=\"1\" class=\"dataframe\">\n",
       "  <thead>\n",
       "    <tr style=\"text-align: right;\">\n",
       "      <th></th>\n",
       "      <th>Unnamed: 0</th>\n",
       "      <th>text</th>\n",
       "      <th>label</th>\n",
       "    </tr>\n",
       "  </thead>\n",
       "  <tbody>\n",
       "    <tr>\n",
       "      <th>995</th>\n",
       "      <td>996</td>\n",
       "      <td>地址是：绍兴市越城区解放南路777号金帝银泰城5层，店铺正在筹备中，营业时间暂未确定，感谢您...</td>\n",
       "      <td>0</td>\n",
       "    </tr>\n",
       "    <tr>\n",
       "      <th>996</th>\n",
       "      <td>997</td>\n",
       "      <td>额，彤彤啊～那你注意身体啊</td>\n",
       "      <td>0</td>\n",
       "    </tr>\n",
       "    <tr>\n",
       "      <th>997</th>\n",
       "      <td>998</td>\n",
       "      <td>索尼的黑卡木有用过</td>\n",
       "      <td>0</td>\n",
       "    </tr>\n",
       "    <tr>\n",
       "      <th>998</th>\n",
       "      <td>999</td>\n",
       "      <td>那就暂时不用惦记买这个了</td>\n",
       "      <td>0</td>\n",
       "    </tr>\n",
       "    <tr>\n",
       "      <th>999</th>\n",
       "      <td>1000</td>\n",
       "      <td>好吧，还是慢慢来吧</td>\n",
       "      <td>0</td>\n",
       "    </tr>\n",
       "  </tbody>\n",
       "</table>\n",
       "</div>"
      ],
      "text/plain": [
       "     Unnamed: 0                                               text  label\n",
       "995         996  地址是：绍兴市越城区解放南路777号金帝银泰城5层，店铺正在筹备中，营业时间暂未确定，感谢您...      0\n",
       "996         997                                      额，彤彤啊～那你注意身体啊      0\n",
       "997         998                                          索尼的黑卡木有用过      0\n",
       "998         999                                       那就暂时不用惦记买这个了      0\n",
       "999        1000                                          好吧，还是慢慢来吧      0"
      ]
     },
     "execution_count": 27,
     "metadata": {},
     "output_type": "execute_result"
    }
   ],
   "source": [
    "data_train = data_train.dropna(how='any')\n",
    "data_train.info()\n",
    "data_train.tail()"
   ]
  },
  {
   "cell_type": "code",
   "execution_count": 20,
   "metadata": {},
   "outputs": [
    {
     "data": {
      "text/plain": [
       "array(['text', '0', '昨晚看最强大脑都烦死了看的一头的火都是因为那个没素质，没事瞎bb的人', ..., '0',\n",
       "       '好吧，还是慢慢来吧', '0'], dtype='<U55')"
      ]
     },
     "execution_count": 20,
     "metadata": {},
     "output_type": "execute_result"
    }
   ],
   "source": [
    "data_train['Label'] = data_train['Label'].apply(lambda x: str(int(x)))\n",
    "def splitBy(para, labels):\n",
    "    strs = para.split('__eou__ ')\n",
    "    res = []\n",
    "    res.append([strs[len(labels)], 0])\n",
    "    return np.array(res)\n",
    "               \n",
    "df_array = np.array(['text', 0])\n",
    "\n",
    "for i in range(0, len(data_train)):\n",
    "    para = data_train['Text'][i]\n",
    "    labels = data_train['Label'][i]\n",
    "    res = splitBy(para, labels)\n",
    "    df_array = np.append(df_array, res)\n",
    "df_array"
   ]
  },
  {
   "cell_type": "code",
   "execution_count": 21,
   "metadata": {},
   "outputs": [
    {
     "data": {
      "text/plain": [
       "array([['text', '0'],\n",
       "       ['昨晚看最强大脑都烦死了看的一头的火都是因为那个没素质，没事瞎bb的人', '0'],\n",
       "       ['哈哈鸡窝我也是歌词完全不懂也跟着唱刚才google了一下才知道歌词大意', '0'],\n",
       "       ...,\n",
       "       ['索尼的黑卡木有用过', '0'],\n",
       "       ['那就暂时不用惦记买这个了', '0'],\n",
       "       ['好吧，还是慢慢来吧', '0']], dtype='<U55')"
      ]
     },
     "execution_count": 21,
     "metadata": {},
     "output_type": "execute_result"
    }
   ],
   "source": [
    "df_array = df_array.reshape(int(df_array.shape[0]/2), 2)\n",
    "df_array"
   ]
  },
  {
   "cell_type": "code",
   "execution_count": 22,
   "metadata": {},
   "outputs": [
    {
     "data": {
      "text/html": [
       "<div>\n",
       "<style scoped>\n",
       "    .dataframe tbody tr th:only-of-type {\n",
       "        vertical-align: middle;\n",
       "    }\n",
       "\n",
       "    .dataframe tbody tr th {\n",
       "        vertical-align: top;\n",
       "    }\n",
       "\n",
       "    .dataframe thead th {\n",
       "        text-align: right;\n",
       "    }\n",
       "</style>\n",
       "<table border=\"1\" class=\"dataframe\">\n",
       "  <thead>\n",
       "    <tr style=\"text-align: right;\">\n",
       "      <th></th>\n",
       "      <th>text</th>\n",
       "      <th>label</th>\n",
       "    </tr>\n",
       "  </thead>\n",
       "  <tbody>\n",
       "    <tr>\n",
       "      <th>1</th>\n",
       "      <td>昨晚看最强大脑都烦死了看的一头的火都是因为那个没素质，没事瞎bb的人</td>\n",
       "      <td>0</td>\n",
       "    </tr>\n",
       "    <tr>\n",
       "      <th>2</th>\n",
       "      <td>哈哈鸡窝我也是歌词完全不懂也跟着唱刚才google了一下才知道歌词大意</td>\n",
       "      <td>0</td>\n",
       "    </tr>\n",
       "    <tr>\n",
       "      <th>3</th>\n",
       "      <td>我给你介绍个有pr的妹子好了</td>\n",
       "      <td>0</td>\n",
       "    </tr>\n",
       "    <tr>\n",
       "      <th>4</th>\n",
       "      <td>天啊！我太开心了！谢谢你哦</td>\n",
       "      <td>0</td>\n",
       "    </tr>\n",
       "    <tr>\n",
       "      <th>5</th>\n",
       "      <td>愿你见一下西北大小伙的歌喉</td>\n",
       "      <td>0</td>\n",
       "    </tr>\n",
       "  </tbody>\n",
       "</table>\n",
       "</div>"
      ],
      "text/plain": [
       "                                  text label\n",
       "1   昨晚看最强大脑都烦死了看的一头的火都是因为那个没素质，没事瞎bb的人     0\n",
       "2  哈哈鸡窝我也是歌词完全不懂也跟着唱刚才google了一下才知道歌词大意     0\n",
       "3                       我给你介绍个有pr的妹子好了     0\n",
       "4                        天啊！我太开心了！谢谢你哦     0\n",
       "5                        愿你见一下西北大小伙的歌喉     0"
      ]
     },
     "execution_count": 22,
     "metadata": {},
     "output_type": "execute_result"
    }
   ],
   "source": [
    "new_df = pd.DataFrame(df_array, columns=[\"text\", \"label\"])\n",
    "new_df = new_df.drop(new_df.index[0])\n",
    "new_df.head()"
   ]
  },
  {
   "cell_type": "code",
   "execution_count": 24,
   "metadata": {},
   "outputs": [],
   "source": [
    "new_df.to_csv(\"final_test_single.csv\")"
   ]
  },
  {
   "cell_type": "code",
   "execution_count": null,
   "metadata": {},
   "outputs": [],
   "source": []
  }
 ],
 "metadata": {
  "kernelspec": {
   "display_name": "Python 3",
   "language": "python",
   "name": "python3"
  },
  "language_info": {
   "codemirror_mode": {
    "name": "ipython",
    "version": 3
   },
   "file_extension": ".py",
   "mimetype": "text/x-python",
   "name": "python",
   "nbconvert_exporter": "python",
   "pygments_lexer": "ipython3",
   "version": "3.7.6"
  }
 },
 "nbformat": 4,
 "nbformat_minor": 2
}
